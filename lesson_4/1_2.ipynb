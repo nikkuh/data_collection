{
 "cells": [
  {
   "cell_type": "code",
   "execution_count": 1,
   "id": "b58b07ef",
   "metadata": {},
   "outputs": [],
   "source": [
    "import re\n",
    "import requests\n",
    "from lxml import html\n",
    "from pprint import pprint\n",
    "from pymongo import MongoClient\n",
    "from pymongo.errors import DuplicateKeyError as dke"
   ]
  },
  {
   "cell_type": "code",
   "execution_count": 2,
   "id": "664820ad",
   "metadata": {},
   "outputs": [],
   "source": [
    "url = 'http://www.lenta.ru'\n",
    "headers = {'User-Agent' : 'Mozilla/5.0 (Windows NT 10.0; Win64; x64) AppleWebKit/537.36 (KHTML, like Gecko) Chrome/95.0.4638.69 Safari/537.36'}"
   ]
  },
  {
   "cell_type": "code",
   "execution_count": 3,
   "id": "d31d7a17",
   "metadata": {},
   "outputs": [],
   "source": [
    "response = requests.get(url, headers)"
   ]
  },
  {
   "cell_type": "code",
   "execution_count": 4,
   "id": "b96cfc77",
   "metadata": {},
   "outputs": [],
   "source": [
    "dom = html.fromstring(response.text)"
   ]
  },
  {
   "cell_type": "code",
   "execution_count": 5,
   "id": "69254543",
   "metadata": {},
   "outputs": [],
   "source": [
    "raw_news = dom.xpath(\"//div[@class='b-yellow-box__wrap']/div[@class='item']\")"
   ]
  },
  {
   "cell_type": "code",
   "execution_count": 6,
   "id": "52be48a3",
   "metadata": {},
   "outputs": [],
   "source": [
    "news = []\n",
    "\n",
    "# Использую ссылку как _id для решения проблемы дубликатов\n",
    "for new in raw_news:\n",
    "    base = {}\n",
    "    base['source'] = url\n",
    "    base['title'] = new.xpath(\"./a/text()\")[0].replace('\\xa0', ' ')\n",
    "    base['_id'] = url + str(new.xpath(\"./a/@href\")[0])\n",
    "    base['date'] = '.'.join(base['_id'].split('/')[-3:-6:-1])\n",
    "    news.append(base)"
   ]
  },
  {
   "cell_type": "code",
   "execution_count": 7,
   "id": "6e088d7e",
   "metadata": {},
   "outputs": [],
   "source": [
    "client = MongoClient('127.0.0.1', 27017)\n",
    "db = client['news_base']\n",
    "lenta = db.lenta"
   ]
  },
  {
   "cell_type": "code",
   "execution_count": 8,
   "id": "467d7260",
   "metadata": {},
   "outputs": [
    {
     "name": "stdout",
     "output_type": "stream",
     "text": [
      "Повторений новостей найдено: 10\n"
     ]
    }
   ],
   "source": [
    "dke_counter = 0\n",
    "for idx, _ in enumerate(news):\n",
    "    \n",
    "    try:\n",
    "        lenta.insert_one(news[idx])\n",
    "    except dke:\n",
    "        dke_counter += 1\n",
    "print(f'Повторений новостей найдено: {dke_counter}')"
   ]
  },
  {
   "cell_type": "code",
   "execution_count": 9,
   "id": "ade00207",
   "metadata": {},
   "outputs": [
    {
     "data": {
      "text/plain": [
       "10"
      ]
     },
     "execution_count": 9,
     "metadata": {},
     "output_type": "execute_result"
    }
   ],
   "source": [
    "lenta.count_documents({})"
   ]
  },
  {
   "cell_type": "code",
   "execution_count": 10,
   "id": "3ba0097b",
   "metadata": {},
   "outputs": [],
   "source": [
    "# db.drop_collection(lenta)"
   ]
  },
  {
   "cell_type": "code",
   "execution_count": 11,
   "id": "0d693bb7",
   "metadata": {},
   "outputs": [
    {
     "name": "stdout",
     "output_type": "stream",
     "text": [
      "{'_id': 'http://www.lenta.ru/news/2021/11/04/potok_zapusk/',\n",
      " 'date': '04.11.2021',\n",
      " 'source': 'http://www.lenta.ru',\n",
      " 'title': 'В Германии усомнились в запуске «Северного потока-2» до января 2022 '\n",
      "          'года'}\n",
      "{'_id': 'http://www.lenta.ru/news/2021/11/04/against_vaccine/',\n",
      " 'date': '04.11.2021',\n",
      " 'source': 'http://www.lenta.ru',\n",
      " 'title': 'В России призвали «сдавать» антипрививочников следователям'}\n",
      "{'_id': 'http://www.lenta.ru/news/2021/11/04/social_network/',\n",
      " 'date': '04.11.2021',\n",
      " 'source': 'http://www.lenta.ru',\n",
      " 'title': 'Названы опасные для психики и интеллекта функции соцсетей'}\n",
      "{'_id': 'http://www.lenta.ru/news/2021/11/04/cult/',\n",
      " 'date': '04.11.2021',\n",
      " 'source': 'http://www.lenta.ru',\n",
      " 'title': 'Объяснена причина появления в России 1990-х культа японских машин'}\n",
      "{'_id': 'http://www.lenta.ru/news/2021/11/03/antiprivivochniki/',\n",
      " 'date': '03.11.2021',\n",
      " 'source': 'http://www.lenta.ru',\n",
      " 'title': 'В России начнут сообщать следователям об антипрививочниках'}\n",
      "{'_id': 'http://www.lenta.ru/news/2021/11/03/akt/',\n",
      " 'date': '03.11.2021',\n",
      " 'source': 'http://www.lenta.ru',\n",
      " 'title': 'СК начал искать авторов видео с «элементами однополого полового '\n",
      "          'акта» у Кремля'}\n",
      "{'_id': 'http://www.lenta.ru/news/2021/11/03/an_12/',\n",
      " 'date': '03.11.2021',\n",
      " 'source': 'http://www.lenta.ru',\n",
      " 'title': 'Самолет Ан-12 разбился под Иркутском'}\n",
      "{'_id': 'http://www.lenta.ru/news/2021/11/03/nerab/',\n",
      " 'date': '03.11.2021',\n",
      " 'source': 'http://www.lenta.ru',\n",
      " 'title': 'Собянин заявил об отсутствии планов продлить нерабочие дни в Москве'}\n",
      "{'_id': 'http://www.lenta.ru/news/2021/11/03/specnaz/',\n",
      " 'date': '03.11.2021',\n",
      " 'source': 'http://www.lenta.ru',\n",
      " 'title': 'На Урале восставшую против главного вора в законе Чечни колонию '\n",
      "          'усмирил спецназ'}\n",
      "{'_id': 'http://www.lenta.ru/extlink/2021/10/26/dom/',\n",
      " 'date': '26.10.2021',\n",
      " 'source': 'http://www.lenta.ru',\n",
      " 'title': 'Описан облик роботов будущего '}\n"
     ]
    }
   ],
   "source": [
    "for new in lenta.find():\n",
    "    pprint(new)"
   ]
  }
 ],
 "metadata": {
  "kernelspec": {
   "display_name": "Python 3 (ipykernel)",
   "language": "python",
   "name": "python3"
  },
  "language_info": {
   "codemirror_mode": {
    "name": "ipython",
    "version": 3
   },
   "file_extension": ".py",
   "mimetype": "text/x-python",
   "name": "python",
   "nbconvert_exporter": "python",
   "pygments_lexer": "ipython3",
   "version": "3.8.5"
  }
 },
 "nbformat": 4,
 "nbformat_minor": 5
}
