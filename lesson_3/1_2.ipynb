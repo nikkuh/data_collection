{
 "cells": [
  {
   "cell_type": "code",
   "execution_count": 1,
   "id": "89d07d1b",
   "metadata": {},
   "outputs": [],
   "source": [
    "import requests\n",
    "from bs4 import BeautifulSoup as bs\n",
    "from pprint import pprint\n",
    "from pymongo import MongoClient\n",
    "from pymongo.errors import DuplicateKeyError as dke\n",
    "import re"
   ]
  },
  {
   "cell_type": "code",
   "execution_count": 2,
   "id": "2f9ade02",
   "metadata": {},
   "outputs": [],
   "source": [
    "# Сюда вводим искомую должность\n",
    "# inp_vacancy = 'Java junior'\n",
    "inp_vacancy = 'инженер'\n",
    "\n",
    "# А сюда колличество страниц для сбора данных с сайта \n",
    "num_of_pages = 7"
   ]
  },
  {
   "cell_type": "code",
   "execution_count": 3,
   "id": "ca12263a",
   "metadata": {},
   "outputs": [],
   "source": [
    "vacancy_list = []\n",
    "page = 1"
   ]
  },
  {
   "cell_type": "code",
   "execution_count": 4,
   "id": "362999f2",
   "metadata": {},
   "outputs": [],
   "source": [
    "url = 'https://www.hh.ru'\n",
    "headers = {'User-Agent': 'Mozilla/5.0 (Windows NT 10.0; Win64; x64) AppleWebKit/537.36 (KHTML, like Gecko) Chrome/95.0.4638.54 Safari/537.36'}\n",
    "page_button = f'/search/vacancy?fromSearchLine=true&text={inp_vacancy}&from=suggest_post&search_field=name&page={page}'"
   ]
  },
  {
   "cell_type": "code",
   "execution_count": 5,
   "id": "2315cb8a",
   "metadata": {},
   "outputs": [
    {
     "name": "stdout",
     "output_type": "stream",
     "text": [
      "Wall time: 10.3 s\n"
     ]
    }
   ],
   "source": [
    "%%time\n",
    "for _ in range(num_of_pages):\n",
    "    try:\n",
    "        response = requests.get(url+page_button, headers=headers)\n",
    "        dom = bs(response.text, 'html.parser')\n",
    "        vacancies = dom.find_all('div', {'class': 'vacancy-serp-item'})\n",
    "        for vacancy in vacancies:\n",
    "\n",
    "            base = {}\n",
    "            base['site'] = url\n",
    "            base['title'] = vacancy.find('a', {'class': 'bloko-link', 'data-qa':\"vacancy-serp__vacancy-title\"}).text\n",
    "            base['link'] = vacancy.find('a', {'class': 'bloko-link', 'data-qa':\"vacancy-serp__vacancy-title\"})['href']\n",
    "            base['_id'] = int(re.findall(r'\\d+', base['link'])[0])\n",
    "            \n",
    "            try:\n",
    "                raw_salary = (vacancy.find('span', {'data-qa': 'vacancy-serp__vacancy-compensation'}).text)\n",
    "                li = re.findall(r\"\\d+\", raw_salary)\n",
    "\n",
    "                if raw_salary[0] == 'о':\n",
    "                    base['min_salary'] = int(li[0]+li[1])\n",
    "                    base['max_salary'] = None\n",
    "                    base['value'] = re.findall(r'\\w+\\.?$', raw_salary)[0]\n",
    "\n",
    "                elif raw_salary[0] == 'д':\n",
    "                    base['min_salary'] = None\n",
    "                    base['max_salary'] = int(li[0]+li[1])\n",
    "                    base['value'] = re.findall(r'\\w+\\.?$', raw_salary)[0]\n",
    "\n",
    "                else:\n",
    "                    base['min_salary'] = int(li[0]+li[1])\n",
    "                    base['max_salary'] = int(li[2]+li[3])\n",
    "                    base['value'] = re.findall(r'\\w+\\.?$', raw_salary)[0]\n",
    "\n",
    "            except:\n",
    "                base['min_salary'] = None\n",
    "                base['max_salary'] = None\n",
    "                base['value'] = None\n",
    "\n",
    "\n",
    "            vacancy_list.append(base)\n",
    "        \n",
    "        page += 1\n",
    "        \n",
    "    except:\n",
    "        break"
   ]
  },
  {
   "cell_type": "code",
   "execution_count": 6,
   "id": "1252cff7",
   "metadata": {},
   "outputs": [
    {
     "data": {
      "text/plain": [
       "359"
      ]
     },
     "execution_count": 6,
     "metadata": {},
     "output_type": "execute_result"
    }
   ],
   "source": [
    "len(vacancy_list)"
   ]
  },
  {
   "cell_type": "code",
   "execution_count": 7,
   "id": "d6d5e932",
   "metadata": {},
   "outputs": [],
   "source": [
    "client = MongoClient('127.0.0.1', 27017)\n",
    "db = client['vacancy_base']\n",
    "base_1 = db.base_1"
   ]
  },
  {
   "cell_type": "code",
   "execution_count": 8,
   "id": "70c2e626",
   "metadata": {},
   "outputs": [
    {
     "name": "stdout",
     "output_type": "stream",
     "text": [
      "Повторений ваканский в vacancy_list найдено: 300\n"
     ]
    }
   ],
   "source": [
    "dke_counter = 0\n",
    "for idx, _ in enumerate(vacancy_list):\n",
    "    \n",
    "    try:\n",
    "        base_1.insert_one(vacancy_list[idx])\n",
    "    except dke:\n",
    "        dke_counter += 1\n",
    "print(f'Повторений ваканский в vacancy_list найдено: {dke_counter}')"
   ]
  },
  {
   "cell_type": "code",
   "execution_count": 9,
   "id": "992a8bf5",
   "metadata": {},
   "outputs": [
    {
     "data": {
      "text/plain": [
       "59"
      ]
     },
     "execution_count": 9,
     "metadata": {},
     "output_type": "execute_result"
    }
   ],
   "source": [
    "base_1.count_documents({})"
   ]
  },
  {
   "cell_type": "code",
   "execution_count": 10,
   "id": "daa769a0",
   "metadata": {},
   "outputs": [],
   "source": [
    "def find_salary(salary):\n",
    "    count = 0\n",
    "    for item in base_1.find({'$or':\n",
    "                             [{'min_salary': {'$gte': salary}}, \n",
    "                              {'max_salary': {'$gte': salary}}]}):\n",
    "        pprint(item)\n",
    "        count += 1\n",
    "    print(f'\\nВсего {count} вакансий c зароботной платы свыше {salary}.')\n",
    "        "
   ]
  },
  {
   "cell_type": "code",
   "execution_count": 11,
   "id": "4f096738",
   "metadata": {},
   "outputs": [
    {
     "name": "stdout",
     "output_type": "stream",
     "text": [
      "{'_id': 49253637,\n",
      " 'link': 'https://ufa.hh.ru/vacancy/49253637?query=%D0%B8%D0%BD%D0%B6%D0%B5%D0%BD%D0%B5%D1%80',\n",
      " 'max_salary': None,\n",
      " 'min_salary': 150000,\n",
      " 'site': 'https://www.hh.ru',\n",
      " 'title': 'Ведущий инженер ПТО',\n",
      " 'value': 'руб.'}\n",
      "{'_id': 47352945,\n",
      " 'link': 'https://ufa.hh.ru/vacancy/47352945?query=%D0%B8%D0%BD%D0%B6%D0%B5%D0%BD%D0%B5%D1%80',\n",
      " 'max_salary': 150000,\n",
      " 'min_salary': 80000,\n",
      " 'site': 'https://www.hh.ru',\n",
      " 'title': 'Ведущий инженер по ППР и тех картам',\n",
      " 'value': 'руб.'}\n",
      "{'_id': 46738124,\n",
      " 'link': 'https://ufa.hh.ru/vacancy/46738124?query=%D0%B8%D0%BD%D0%B6%D0%B5%D0%BD%D0%B5%D1%80',\n",
      " 'max_salary': 150000,\n",
      " 'min_salary': 65000,\n",
      " 'site': 'https://www.hh.ru',\n",
      " 'title': 'Техник ПТО \\\\ Инженер ПТО (Ведущий инженер ПТО)',\n",
      " 'value': 'руб.'}\n",
      "{'_id': 49226396,\n",
      " 'link': 'https://ufa.hh.ru/vacancy/49226396?query=%D0%B8%D0%BD%D0%B6%D0%B5%D0%BD%D0%B5%D1%80',\n",
      " 'max_salary': 150000,\n",
      " 'min_salary': 120000,\n",
      " 'site': 'https://www.hh.ru',\n",
      " 'title': 'Ведущий инженер ПТО',\n",
      " 'value': 'руб.'}\n",
      "\n",
      "Всего 4 вакансий c зароботной платы свыше 150000.\n"
     ]
    }
   ],
   "source": [
    "find_salary(150000)"
   ]
  },
  {
   "cell_type": "code",
   "execution_count": 12,
   "id": "ef9e8837",
   "metadata": {},
   "outputs": [
    {
     "data": {
      "text/plain": [
       "0"
      ]
     },
     "execution_count": 12,
     "metadata": {},
     "output_type": "execute_result"
    }
   ],
   "source": [
    "db.drop_collection('base_1')\n",
    "base_1.count_documents({})"
   ]
  },
  {
   "cell_type": "code",
   "execution_count": null,
   "id": "de932354",
   "metadata": {},
   "outputs": [],
   "source": []
  }
 ],
 "metadata": {
  "kernelspec": {
   "display_name": "Python 3 (ipykernel)",
   "language": "python",
   "name": "python3"
  },
  "language_info": {
   "codemirror_mode": {
    "name": "ipython",
    "version": 3
   },
   "file_extension": ".py",
   "mimetype": "text/x-python",
   "name": "python",
   "nbconvert_exporter": "python",
   "pygments_lexer": "ipython3",
   "version": "3.8.5"
  }
 },
 "nbformat": 4,
 "nbformat_minor": 5
}
