{
 "cells": [
  {
   "cell_type": "markdown",
   "id": "5a0517c9",
   "metadata": {},
   "source": [
    "Сначала написал код с использованием ключа доступа, но как выяснилось на практике, и без него всё работает отлично."
   ]
  },
  {
   "cell_type": "code",
   "execution_count": 1,
   "id": "77dc8a55",
   "metadata": {},
   "outputs": [],
   "source": [
    "import requests\n",
    "import json"
   ]
  },
  {
   "cell_type": "code",
   "execution_count": 2,
   "id": "75ff497e",
   "metadata": {},
   "outputs": [],
   "source": [
    "# Имя юзера, чьи репозитории будем смотреть\n",
    "username = 'nikkuh'"
   ]
  },
  {
   "cell_type": "code",
   "execution_count": 3,
   "id": "d8f5a6d2",
   "metadata": {},
   "outputs": [],
   "source": [
    "url = f'https://api.github.com/users/{username}/repos'\n",
    "response = requests.get(url)\n",
    "j_data = response.json()"
   ]
  },
  {
   "cell_type": "code",
   "execution_count": 4,
   "id": "682a8dbe",
   "metadata": {},
   "outputs": [
    {
     "name": "stdout",
     "output_type": "stream",
     "text": [
      "На сайте github.com у пользователя nikkuh иметются следующие репозитории: \n",
      "\t1. data_collection\n",
      "\t2. gb_ds_lib\n",
      "\t3. python\n"
     ]
    }
   ],
   "source": [
    "print(f'На сайте github.com у пользователя {username} иметются следующие репозитории: ')\n",
    "for i in range(len(j_data)):\n",
    "    print(f'\\t{i+1}. {j_data[i][\"name\"]}')"
   ]
  },
  {
   "cell_type": "code",
   "execution_count": 5,
   "id": "6f3213a1",
   "metadata": {},
   "outputs": [
    {
     "data": {
      "text/plain": [
       "{'user': 'nikkuh', 'repositories': ['data_collection', 'gb_ds_lib', 'python']}"
      ]
     },
     "execution_count": 5,
     "metadata": {},
     "output_type": "execute_result"
    }
   ],
   "source": [
    "out_data = {'user': j_data[0]['owner']['login'], \\\n",
    "            'repositories': [j_data[i][\"name\"] for i in range(len(j_data))]}\n",
    "out_data"
   ]
  },
  {
   "cell_type": "code",
   "execution_count": 6,
   "id": "8ddab70a",
   "metadata": {},
   "outputs": [],
   "source": [
    "file_path = open(\"./user's repositories.json\", 'w')\n",
    "json.dump(out_data, file_path)\n",
    "file_path.close()"
   ]
  }
 ],
 "metadata": {
  "kernelspec": {
   "display_name": "Python 3 (ipykernel)",
   "language": "python",
   "name": "python3"
  },
  "language_info": {
   "codemirror_mode": {
    "name": "ipython",
    "version": 3
   },
   "file_extension": ".py",
   "mimetype": "text/x-python",
   "name": "python",
   "nbconvert_exporter": "python",
   "pygments_lexer": "ipython3",
   "version": "3.8.5"
  }
 },
 "nbformat": 4,
 "nbformat_minor": 5
}
